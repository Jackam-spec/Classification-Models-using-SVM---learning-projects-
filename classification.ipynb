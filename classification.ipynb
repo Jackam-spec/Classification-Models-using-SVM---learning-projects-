{
 "cells": [
  {
   "cell_type": "markdown",
   "metadata": {},
   "source": [
    "# Support Vector Machine and Image Recognition\n",
    "This is a learning project with aim of understanding supervised learning and classification using SVM. SVM is well-known for its performance in high dimensional spaces. The project entails the application of SVM in handling different types of data for the purposes of prediction.In addition, PCA (dimensionality reduction technique) is utilized to boost image classification. \n"
   ]
  },
  {
   "cell_type": "markdown",
   "metadata": {},
   "source": [
    "## Breast Cancer Simple Binary Classification"
   ]
  },
  {
   "cell_type": "code",
   "execution_count": 8,
   "metadata": {},
   "outputs": [
    {
     "name": "stdout",
     "output_type": "stream",
     "text": [
      "Input data size: (569, 30)\n",
      "Output data size:  (569,)\n"
     ]
    }
   ],
   "source": [
    "# Load Wisconsin Breast Cancer Dataset\n",
    "from sklearn.datasets import load_breast_cancer\n",
    "import pandas as pd\n",
    "import numpy as np\n",
    "\n",
    "data_cancer = load_breast_cancer()\n",
    "\n",
    "# Assign X  and Y (target) values\n",
    "\n",
    "X = data_cancer.data\n",
    "Y = data_cancer.target\n",
    "\n",
    "# Print Data Size\n",
    "print('Input data size:', X.shape)\n",
    "print('Output data size: ', Y.shape)"
   ]
  },
  {
   "cell_type": "code",
   "execution_count": 9,
   "metadata": {},
   "outputs": [
    {
     "name": "stdout",
     "output_type": "stream",
     "text": [
      "Labels: ['malignant' 'benign']\n",
      "357 positive samples and 212 negative samples\n"
     ]
    }
   ],
   "source": [
    "# Get more descriptive information about the data\n",
    "print('Labels:', data_cancer.target_names)\n",
    "\n",
    "\n",
    "# Positive and Negative samples in the data\n",
    "pos_samples = (Y == 1).sum()\n",
    "neg_samples = (Y == 0).sum()\n",
    "\n",
    "print(f'{pos_samples} positive samples and {neg_samples} negative samples')"
   ]
  },
  {
   "cell_type": "markdown",
   "metadata": {},
   "source": [
    "From the dataset, there are 357 positive samples and 212 negative samples, which translates to about 63% of the samples being positive. In addition, there 569 samples and 30 features. It is imperative to take time understanding the data before proceeding to solve the classification problem. In this case, the data is relatively balanced. "
   ]
  },
  {
   "cell_type": "code",
   "execution_count": 10,
   "metadata": {},
   "outputs": [],
   "source": [
    "# Split Training and Testing Data\n",
    "from sklearn.model_selection import train_test_split\n",
    "\n",
    "X_train, X_test, Y_train, Y_test = train_test_split(X, Y, random_state=42)"
   ]
  },
  {
   "cell_type": "code",
   "execution_count": 11,
   "metadata": {},
   "outputs": [
    {
     "data": {
      "text/plain": [
       "SVC(kernel='linear', random_state=42)"
      ]
     },
     "execution_count": 11,
     "metadata": {},
     "output_type": "execute_result"
    }
   ],
   "source": [
    "# Initialize SVM classifier\n",
    "from sklearn.svm import SVC \n",
    "\n",
    "model = SVC(kernel='linear', random_state=42, C = 1.0)\n",
    "\n",
    "\n",
    "# Fit Classifier Model\n",
    "model.fit(X_train, Y_train)"
   ]
  },
  {
   "cell_type": "code",
   "execution_count": 12,
   "metadata": {},
   "outputs": [
    {
     "name": "stdout",
     "output_type": "stream",
     "text": [
      "Accuracy: 95.8%\n"
     ]
    }
   ],
   "source": [
    "# check model accuracy\n",
    "score_accuracy = model.score(X_test, Y_test)\n",
    "\n",
    "print(f'Accuracy: {score_accuracy*100:.1f}%')"
   ]
  },
  {
   "cell_type": "markdown",
   "metadata": {},
   "source": [
    "The model achieved an accuracy of 95.8%, which is commendable."
   ]
  },
  {
   "cell_type": "code",
   "execution_count": 13,
   "metadata": {},
   "outputs": [
    {
     "name": "stdout",
     "output_type": "stream",
     "text": [
      "              precision    recall  f1-score   support\n",
      "\n",
      "           0       0.96      0.93      0.94        54\n",
      "           1       0.96      0.98      0.97        89\n",
      "\n",
      "    accuracy                           0.96       143\n",
      "   macro avg       0.96      0.95      0.96       143\n",
      "weighted avg       0.96      0.96      0.96       143\n",
      "\n"
     ]
    }
   ],
   "source": [
    "from sklearn.metrics import classification_report\n",
    "\n",
    "pred = model.predict(X_test)\n",
    "\n",
    "print(classification_report(Y_test, pred))"
   ]
  }
 ],
 "metadata": {
  "interpreter": {
   "hash": "a3822a262e3c5730c682963604833b1540cfb3b8f0b2bd90a001306a6af74ee0"
  },
  "kernelspec": {
   "display_name": "Python 3.6.13 64-bit ('classproject': conda)",
   "language": "python",
   "name": "python3"
  },
  "language_info": {
   "codemirror_mode": {
    "name": "ipython",
    "version": 3
   },
   "file_extension": ".py",
   "mimetype": "text/x-python",
   "name": "python",
   "nbconvert_exporter": "python",
   "pygments_lexer": "ipython3",
   "version": "3.6.13"
  },
  "orig_nbformat": 4
 },
 "nbformat": 4,
 "nbformat_minor": 2
}
