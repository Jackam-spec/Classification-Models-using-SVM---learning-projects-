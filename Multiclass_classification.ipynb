{
 "cells": [
  {
   "cell_type": "markdown",
   "metadata": {},
   "source": [
    "# Multiclass Classification with SVM\n",
    "The application of SVM classifier in datasets that have one or more classes is possible. Conventional approaches that many people tend to take include one-VS-rest and one-VS-one. In One-VS-rest, the goal is to create K SVM binary classifiers. The Kth classifier is the positive case and the rest of the classes are considered negative.\n",
    "One-vs-one strategy utilized pairwise comparison by constructing a set of SVM classifiers that can differentiation data points from each pair of classes."
   ]
  },
  {
   "cell_type": "markdown",
   "metadata": {},
   "source": [
    "## Wine Dataset "
   ]
  },
  {
   "cell_type": "code",
   "execution_count": 2,
   "metadata": {},
   "outputs": [
    {
     "name": "stdout",
     "output_type": "stream",
     "text": [
      "Shape of X:  (178, 13)\n",
      "Shape of y:  (178,)\n",
      "Target Labels:  ['class_0' 'class_1' 'class_2']\n",
      "59 class0 samples,\n",
      "71 class1 samples,\n",
      "48 class2 samples.\n"
     ]
    }
   ],
   "source": [
    "from sklearn.datasets import load_wine\n",
    "\n",
    "wine_data = load_wine()\n",
    "\n",
    "X = wine_data.data\n",
    "y = wine_data.target\n",
    "\n",
    "# Data Shape\n",
    "print('Shape of X: ', X.shape)\n",
    "print('Shape of y: ', y.shape)\n",
    "\n",
    "# Label Names\n",
    "print('Target Labels: ', wine_data.target_names)\n",
    "\n",
    "# Negative Classes\n",
    "class0 = (y == 0).sum()\n",
    "class1 = (y == 1).sum()\n",
    "class2 = (y == 2).sum()\n",
    "\n",
    "print(f'{class0} class0 samples,\\n{class1} class1 samples,\\n{class2} class2 samples.')"
   ]
  },
  {
   "cell_type": "code",
   "execution_count": 3,
   "metadata": {},
   "outputs": [
    {
     "name": "stdout",
     "output_type": "stream",
     "text": [
      "Accuracy: 97.777778%\n"
     ]
    }
   ],
   "source": [
    "# Training and Testing Data\n",
    "from sklearn.model_selection import train_test_split\n",
    "from sklearn.svm import SVC\n",
    "\n",
    "X_train, X_test, y_train, y_test = train_test_split(X, y, random_state=42)\n",
    "\n",
    "# Initialize Classifier and Fit Model\n",
    "model = SVC(kernel='linear', C=1.0, random_state=42)\n",
    "model.fit(X_train, y_train)\n",
    "\n",
    "#Check Model accuracy\n",
    "\n",
    "model_accuracy = model.score(X_test, y_test)\n",
    "print(f'Accuracy: {model_accuracy*100:1f}%')"
   ]
  },
  {
   "cell_type": "markdown",
   "metadata": {},
   "source": [
    "The model accuracy is 97.8%, which confirms that SVM works even in multiclass classification. Classification report can bring into light how the model performs for the individual classes."
   ]
  },
  {
   "cell_type": "code",
   "execution_count": 4,
   "metadata": {},
   "outputs": [
    {
     "name": "stdout",
     "output_type": "stream",
     "text": [
      "              precision    recall  f1-score   support\n",
      "\n",
      "           0       1.00      1.00      1.00        15\n",
      "           1       1.00      0.94      0.97        18\n",
      "           2       0.92      1.00      0.96        12\n",
      "\n",
      "    accuracy                           0.98        45\n",
      "   macro avg       0.97      0.98      0.98        45\n",
      "weighted avg       0.98      0.98      0.98        45\n",
      "\n"
     ]
    }
   ],
   "source": [
    "from sklearn.metrics import classification_report\n",
    "\n",
    "predict = model.predict(X_test)\n",
    "\n",
    "print(classification_report(y_test, predict))"
   ]
  }
 ],
 "metadata": {
  "interpreter": {
   "hash": "a3822a262e3c5730c682963604833b1540cfb3b8f0b2bd90a001306a6af74ee0"
  },
  "kernelspec": {
   "display_name": "Python 3.6.13 64-bit ('classproject': conda)",
   "language": "python",
   "name": "python3"
  },
  "language_info": {
   "codemirror_mode": {
    "name": "ipython",
    "version": 3
   },
   "file_extension": ".py",
   "mimetype": "text/x-python",
   "name": "python",
   "nbconvert_exporter": "python",
   "pygments_lexer": "ipython3",
   "version": "3.6.13"
  },
  "orig_nbformat": 4
 },
 "nbformat": 4,
 "nbformat_minor": 2
}
